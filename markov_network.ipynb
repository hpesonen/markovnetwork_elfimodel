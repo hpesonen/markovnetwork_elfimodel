{
 "cells": [
  {
   "source": [
    "This is an example notebook on the Markov network simulator-model. The model is constructed in ELFI-format. "
   ],
   "cell_type": "markdown",
   "metadata": {}
  },
  {
   "cell_type": "code",
   "execution_count": 1,
   "metadata": {},
   "outputs": [],
   "source": [
    "from functools import partial\n",
    "import itertools\n",
    "\n",
    "import elfi\n",
    "import numpy as np\n",
    "import scipy.stats as ss\n",
    "import markov_network as mn"
   ]
  },
  {
   "cell_type": "code",
   "execution_count": 9,
   "metadata": {},
   "outputs": [
    {
     "output_type": "stream",
     "name": "stdout",
     "text": [
      "How does this work??\n[[ True  True  True  True]\n [ True  True  True False]\n [ True  True False  True]\n [ True  True False False]\n [ True False  True  True]\n [ True False  True False]\n [ True False False  True]\n [ True False False False]\n [False  True  True  True]\n [False  True  True False]\n [False  True False  True]\n [False  True False False]\n [False False  True  True]\n [False False  True False]\n [False False False  True]\n [False False False False]]\n[[5.72126883e-06]\n [2.83174506e-07]\n [4.23507456e-06]\n [2.09615241e-07]\n [4.67515012e-01]\n [2.31396804e-02]\n [4.67515012e-01]\n [2.31396804e-02]\n [1.03351804e-05]\n [5.11540306e-07]\n [1.03351804e-05]\n [5.11540306e-07]\n [1.14053256e-05]\n [5.64507200e-07]\n [4.85292466e-01]\n [2.40195765e-02]]\n[[False False False False]\n [False False False  True]\n [False False  True False]\n [False  True False False]\n [False  True  True False]\n [ True False False False]\n [ True False False  True]\n [ True False  True False]\n [ True  True False False]\n [ True  True  True False]]\n[[ -3.72888609]\n [  3.00588255]\n [-10.6584266 ]\n [-10.75695336]\n [ 10.6584266 ]\n [ -0.03732027]\n [  0.        ]\n [ 10.6584266 ]\n [ -0.85483244]\n [-10.35763693]]\n"
     ]
    },
    {
     "output_type": "error",
     "ename": "ValueError",
     "evalue": "pvals < 0, pvals > 1 or pvals contains NaNs",
     "traceback": [
      "\u001b[0;31m---------------------------------------------------------------------------\u001b[0m",
      "\u001b[0;31mValueError\u001b[0m                                Traceback (most recent call last)",
      "\u001b[0;32m<ipython-input-9-18fc4bff730f>\u001b[0m in \u001b[0;36m<module>\u001b[0;34m\u001b[0m\n\u001b[1;32m      8\u001b[0m \u001b[0mpara_mat_true\u001b[0m\u001b[0;34m,\u001b[0m \u001b[0mpara_val_true\u001b[0m \u001b[0;34m=\u001b[0m \u001b[0mmn\u001b[0m\u001b[0;34m.\u001b[0m\u001b[0mmn_sample_para\u001b[0m\u001b[0;34m(\u001b[0m\u001b[0mug\u001b[0m\u001b[0;34m,\u001b[0m \u001b[0;36m1\u001b[0m\u001b[0;34m,\u001b[0m \u001b[0;36m5\u001b[0m\u001b[0;34m)\u001b[0m\u001b[0;34m\u001b[0m\u001b[0;34m\u001b[0m\u001b[0m\n\u001b[1;32m      9\u001b[0m \u001b[0;31m# Generate observed data\u001b[0m\u001b[0;34m\u001b[0m\u001b[0;34m\u001b[0m\u001b[0;34m\u001b[0m\u001b[0m\n\u001b[0;32m---> 10\u001b[0;31m \u001b[0mobs_data\u001b[0m \u001b[0;34m=\u001b[0m \u001b[0mmn\u001b[0m\u001b[0;34m.\u001b[0m\u001b[0mmn_generate_data\u001b[0m\u001b[0;34m(\u001b[0m\u001b[0mpara_mat_true\u001b[0m\u001b[0;34m,\u001b[0m \u001b[0mpara_val_true\u001b[0m\u001b[0;34m,\u001b[0m \u001b[0;36m100\u001b[0m\u001b[0;34m,\u001b[0m \u001b[0;36m0\u001b[0m\u001b[0;34m)\u001b[0m\u001b[0;34m\u001b[0m\u001b[0;34m\u001b[0m\u001b[0m\n\u001b[0m",
      "\u001b[0;32m~/Documents/research/markovnetwork_elfimodel/markov_network.py\u001b[0m in \u001b[0;36mmn_generate_data\u001b[0;34m(para_mat, para_val, n, seed)\u001b[0m\n\u001b[1;32m    382\u001b[0m     \u001b[0;31m# print(ss.multinomial.rvs(n, p, size=1, random_state=seed))\u001b[0m\u001b[0;34m\u001b[0m\u001b[0;34m\u001b[0m\u001b[0;34m\u001b[0m\u001b[0m\n\u001b[1;32m    383\u001b[0m     ind = np.repeat(np.arange(oc.shape[0]),\n\u001b[0;32m--> 384\u001b[0;31m                     ss.multinomial.rvs(n, p, size=1,\n\u001b[0m\u001b[1;32m    385\u001b[0m                                        random_state=seed).ravel())\n\u001b[1;32m    386\u001b[0m     \u001b[0mdata\u001b[0m \u001b[0;34m=\u001b[0m \u001b[0moc\u001b[0m\u001b[0;34m[\u001b[0m\u001b[0mind\u001b[0m\u001b[0;34m,\u001b[0m \u001b[0;34m:\u001b[0m\u001b[0;34m]\u001b[0m\u001b[0;34m\u001b[0m\u001b[0;34m\u001b[0m\u001b[0m\n",
      "\u001b[0;32m/opt/anaconda3/envs/elfi36/lib/python3.6/site-packages/scipy/stats/_multivariate.py\u001b[0m in \u001b[0;36mrvs\u001b[0;34m(self, n, p, size, random_state)\u001b[0m\n\u001b[1;32m   3235\u001b[0m         \u001b[0mn\u001b[0m\u001b[0;34m,\u001b[0m \u001b[0mp\u001b[0m\u001b[0;34m,\u001b[0m \u001b[0mnpcond\u001b[0m \u001b[0;34m=\u001b[0m \u001b[0mself\u001b[0m\u001b[0;34m.\u001b[0m\u001b[0m_process_parameters\u001b[0m\u001b[0;34m(\u001b[0m\u001b[0mn\u001b[0m\u001b[0;34m,\u001b[0m \u001b[0mp\u001b[0m\u001b[0;34m)\u001b[0m\u001b[0;34m\u001b[0m\u001b[0;34m\u001b[0m\u001b[0m\n\u001b[1;32m   3236\u001b[0m         \u001b[0mrandom_state\u001b[0m \u001b[0;34m=\u001b[0m \u001b[0mself\u001b[0m\u001b[0;34m.\u001b[0m\u001b[0m_get_random_state\u001b[0m\u001b[0;34m(\u001b[0m\u001b[0mrandom_state\u001b[0m\u001b[0;34m)\u001b[0m\u001b[0;34m\u001b[0m\u001b[0;34m\u001b[0m\u001b[0m\n\u001b[0;32m-> 3237\u001b[0;31m         \u001b[0;32mreturn\u001b[0m \u001b[0mrandom_state\u001b[0m\u001b[0;34m.\u001b[0m\u001b[0mmultinomial\u001b[0m\u001b[0;34m(\u001b[0m\u001b[0mn\u001b[0m\u001b[0;34m,\u001b[0m \u001b[0mp\u001b[0m\u001b[0;34m,\u001b[0m \u001b[0msize\u001b[0m\u001b[0;34m)\u001b[0m\u001b[0;34m\u001b[0m\u001b[0;34m\u001b[0m\u001b[0m\n\u001b[0m\u001b[1;32m   3238\u001b[0m \u001b[0;34m\u001b[0m\u001b[0m\n\u001b[1;32m   3239\u001b[0m \u001b[0;34m\u001b[0m\u001b[0m\n",
      "\u001b[0;32mmtrand.pyx\u001b[0m in \u001b[0;36mnumpy.random.mtrand.RandomState.multinomial\u001b[0;34m()\u001b[0m\n",
      "\u001b[0;32m_common.pyx\u001b[0m in \u001b[0;36mnumpy.random._common.check_array_constraint\u001b[0;34m()\u001b[0m\n",
      "\u001b[0;31mValueError\u001b[0m: pvals < 0, pvals > 1 or pvals contains NaNs"
     ]
    }
   ],
   "source": [
    "ug = np.zeros((4, 4))\n",
    "ug[0,1:4] = 1\n",
    "ug[1,2] = 1\n",
    "# ug = np.max(ug, ug.T)\n",
    "ug = ug + ug.T\n",
    "\n",
    "# Generate values from the prior as the ground truth\n",
    "para_mat_true, para_val_true = mn.mn_sample_para(ug, 1, 5)\n",
    "# Generate observed data\n",
    "obs_data = mn.mn_generate_data(para_mat_true, para_val_true, 100, 0)\n"
   ]
  },
  {
   "cell_type": "code",
   "execution_count": 6,
   "metadata": {},
   "outputs": [
    {
     "output_type": "stream",
     "name": "stdout",
     "text": [
      "[[ True  True  True  True]\n [ True  True  True  True]\n [ True  True  True False]\n [ True  True  True False]\n [ True  True  True False]\n [ True  True  True False]\n [ True  True  True False]\n [ True  True  True False]\n [ True  True  True False]\n [ True  True  True False]\n [ True  True  True False]\n [ True  True  True False]\n [ True  True  True False]\n [ True  True  True False]\n [ True  True  True False]\n [ True  True  True False]\n [ True  True  True False]\n [ True  True  True False]\n [ True  True  True False]\n [ True  True  True False]\n [ True  True  True False]\n [ True  True  True False]\n [ True  True  True False]\n [ True  True  True False]\n [ True  True  True False]\n [ True  True  True False]\n [ True  True  True False]\n [ True  True  True False]\n [ True  True  True False]\n [ True  True  True False]\n [ True  True  True False]\n [ True  True  True False]\n [ True  True  True False]\n [ True  True  True False]\n [ True  True  True False]\n [ True  True  True False]\n [ True  True  True False]\n [ True  True  True False]\n [ True  True  True False]\n [ True  True  True False]\n [ True  True  True False]\n [ True  True  True False]\n [ True  True  True False]\n [ True  True  True False]\n [ True  True  True False]\n [ True  True  True False]\n [ True  True  True False]\n [ True  True  True False]\n [ True  True  True False]\n [ True  True  True False]\n [ True  True  True False]\n [ True  True  True False]\n [ True  True  True False]\n [ True  True False  True]\n [ True  True False False]\n [ True  True False False]\n [ True  True False False]\n [ True  True False False]\n [ True  True False False]\n [ True  True False False]\n [ True  True False False]\n [ True  True False False]\n [ True  True False False]\n [ True  True False False]\n [ True  True False False]\n [ True  True False False]\n [ True  True False False]\n [ True  True False False]\n [ True  True False False]\n [ True  True False False]\n [ True  True False False]\n [ True  True False False]\n [ True  True False False]\n [ True  True False False]\n [ True  True False False]\n [ True  True False False]\n [ True  True False False]\n [ True  True False False]\n [ True  True False False]\n [ True  True False False]\n [ True  True False False]\n [ True  True False False]\n [ True  True False False]\n [ True  True False False]\n [ True  True False False]\n [ True  True False False]\n [ True  True False False]\n [ True  True False False]\n [False  True  True  True]\n [False  True  True False]\n [False  True  True False]\n [False  True  True False]\n [False  True  True False]\n [False  True  True False]\n [False  True False  True]\n [False  True False False]\n [False  True False False]\n [False  True False False]\n [False  True False False]\n [False  True False False]]\n"
     ]
    },
    {
     "output_type": "execute_result",
     "data": {
      "text/plain": [
       "0.40346541464179136"
      ]
     },
     "metadata": {},
     "execution_count": 6
    }
   ],
   "source": [
    "print(obs_data)\n",
    "mn.mn_calculate_jsd(~obs_data, para_mat_true, obs_data)"
   ]
  },
  {
   "cell_type": "code",
   "execution_count": 10,
   "metadata": {},
   "outputs": [
    {
     "output_type": "stream",
     "name": "stdout",
     "text": [
      "[[0. 1. 1. 1.]\n [1. 0. 1. 0.]\n [1. 1. 0. 0.]\n [1. 0. 0. 0.]]\n[[0. 1. 1. 1.]\n [0. 0. 1. 0.]\n [0. 0. 0. 0.]\n [0. 0. 0. 0.]]\n[0 1 2 3]\n"
     ]
    }
   ],
   "source": [
    "dag, node_ordering = mn.ug_to_dag(ug)\n",
    "print(ug)\n",
    "print(dag)\n",
    "print(node_ordering)"
   ]
  },
  {
   "cell_type": "code",
   "execution_count": 5,
   "metadata": {},
   "outputs": [
    {
     "output_type": "execute_result",
     "data": {
      "text/plain": [
       "array([[0., 1., 1., 1.],\n",
       "       [1., 0., 0., 0.],\n",
       "       [1., 0., 0., 0.],\n",
       "       [1., 0., 0., 0.]])"
      ]
     },
     "metadata": {},
     "execution_count": 5
    }
   ],
   "source": [
    "ug"
   ]
  },
  {
   "cell_type": "code",
   "execution_count": null,
   "metadata": {},
   "outputs": [],
   "source": []
  }
 ],
 "metadata": {
  "kernelspec": {
   "display_name": "Python 3.6.9 64-bit ('elfi36': conda)",
   "language": "python",
   "name": "python36964bitelfi36conda8bec451552304612bd355a97e3742bbb"
  },
  "language_info": {
   "codemirror_mode": {
    "name": "ipython",
    "version": 3
   },
   "file_extension": ".py",
   "mimetype": "text/x-python",
   "name": "python",
   "nbconvert_exporter": "python",
   "pygments_lexer": "ipython3",
   "version": "3.6.10-final"
  }
 },
 "nbformat": 4,
 "nbformat_minor": 4
}