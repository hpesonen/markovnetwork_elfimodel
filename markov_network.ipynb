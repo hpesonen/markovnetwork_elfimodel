{
 "cells": [
  {
   "source": [
    "This is an example notebook on the Markov network simulator-model. The model is constructed in ELFI-format. "
   ],
   "cell_type": "markdown",
   "metadata": {}
  },
  {
   "cell_type": "code",
   "execution_count": 1,
   "metadata": {},
   "outputs": [],
   "source": [
    "from functools import partial\n",
    "import itertools\n",
    "\n",
    "import elfi\n",
    "import numpy as np\n",
    "import scipy.stats as ss\n",
    "import markov_network as mn"
   ]
  },
  {
   "cell_type": "code",
   "execution_count": 2,
   "metadata": {},
   "outputs": [
    {
     "output_type": "stream",
     "name": "stdout",
     "text": [
      "[[0. 1. 1.]\n [1. 0. 0.]\n [1. 0. 0.]]\n(7, 1)\nGMN simulate\n(1, 7)\n(1, 7)\n(1, 7)\n[[ 0.  0.  0.  0.  0.  0.  0.  0.  0.  0.  0.  0.  0.  0.  0.  0.  0.  0.\n   0.  0.  0.  0.  0.  0.  0.  0.  0.  0.  0.  0.  0.  0.  0.  0.  0.  0.\n   0.  0.  0.  0.  1.  1.  1.  1.  1.  1.  1.  1.  1.  1.  1.  2.  2.  2.\n   2.  2.  2.  2.  2.  2.  3.  4.  4.  4.  4.  4.  4.  4.  4.  4.  4.  5.\n   5.  5.  5.  5.  6.  6.  6.  8.  8.  8.  8.  8.  8.  8.  8.  8.  8.  8.\n   9.  9.  9. 10. 10. 10. 12. 12. 12. 13.]]\n(1, 100)\n{'name': 'd'}\n"
     ]
    }
   ],
   "source": [
    "model = mn.get_model()"
   ]
  },
  {
   "cell_type": "code",
   "execution_count": 3,
   "metadata": {},
   "outputs": [
    {
     "output_type": "stream",
     "name": "stdout",
     "text": [
      "sumstats\n[[ 0.  0.  0.  0.  0.  0.  0.  0.  0.  0.  0.  0.  0.  0.  0.  0.  0.  0.\n   0.  0.  0.  0.  0.  0.  0.  0.  0.  0.  0.  0.  0.  0.  0.  0.  0.  0.\n   0.  0.  0.  0.  1.  1.  1.  1.  1.  1.  1.  1.  1.  1.  1.  2.  2.  2.\n   2.  2.  2.  2.  2.  2.  3.  4.  4.  4.  4.  4.  4.  4.  4.  4.  4.  5.\n   5.  5.  5.  5.  6.  6.  6.  8.  8.  8.  8.  8.  8.  8.  8.  8.  8.  8.\n   9.  9.  9. 10. 10. 10. 12. 12. 12. 13.]]\n16\n(1, 100)\n1\n[41 12 10  2 11  6  4  1 12  4  4  1  4  2  1  1]\n(16,)\nGMN simulate\n(2, 7)\n(2, 7)\n(2, 7)\n[[ 0.  1.  1.  1.  1.  1.  1.  1.  1.  1.  1.  1.  1.  1.  1.  1.  1.  1.\n   1.  2.  3.  3.  3.  3.  3.  3.  3.  4.  4.  5.  5.  5.  5.  5.  5.  5.\n   5.  5.  6.  6.  7.  7.  7.  7.  7.  9.  9.  9.  9.  9.  9.  9.  9.  9.\n   9.  9.  9.  9.  9.  9.  9.  9.  9. 11. 11. 11. 11. 11. 11. 11. 11. 11.\n  11. 11. 11. 11. 11. 11. 11. 11. 11. 11. 11. 11. 11. 11. 11. 11. 11. 11.\n  11. 11. 11. 11. 11. 11. 11. 11. 13. 15.]\n [ 0.  0.  0.  0.  0.  0.  0.  0.  0.  0.  0.  0.  0.  0.  1.  1.  1.  1.\n   1.  1.  1.  1.  1.  1.  1.  3.  4.  4.  4.  4.  4.  4.  4.  4.  4.  4.\n   4.  4.  4.  4.  4.  4.  4.  4.  4.  4.  4.  4.  4.  4.  4.  4.  4.  4.\n   4.  4.  4.  4.  4.  4.  4.  4.  4.  4.  5.  5.  5.  5.  5.  5.  5.  5.\n   5.  6.  6.  6.  6.  6.  7.  7.  7.  7.  8.  8. 10. 10. 10. 10. 12. 12.\n  12. 12. 12. 12. 14. 14. 14. 14. 14. 15.]]\n(2, 100)\nsumstats\n[[ 0.  1.  1.  1.  1.  1.  1.  1.  1.  1.  1.  1.  1.  1.  1.  1.  1.  1.\n   1.  2.  3.  3.  3.  3.  3.  3.  3.  4.  4.  5.  5.  5.  5.  5.  5.  5.\n   5.  5.  6.  6.  7.  7.  7.  7.  7.  9.  9.  9.  9.  9.  9.  9.  9.  9.\n   9.  9.  9.  9.  9.  9.  9.  9.  9. 11. 11. 11. 11. 11. 11. 11. 11. 11.\n  11. 11. 11. 11. 11. 11. 11. 11. 11. 11. 11. 11. 11. 11. 11. 11. 11. 11.\n  11. 11. 11. 11. 11. 11. 11. 11. 13. 15.]\n [ 0.  0.  0.  0.  0.  0.  0.  0.  0.  0.  0.  0.  0.  0.  1.  1.  1.  1.\n   1.  1.  1.  1.  1.  1.  1.  3.  4.  4.  4.  4.  4.  4.  4.  4.  4.  4.\n   4.  4.  4.  4.  4.  4.  4.  4.  4.  4.  4.  4.  4.  4.  4.  4.  4.  4.\n   4.  4.  4.  4.  4.  4.  4.  4.  4.  4.  5.  5.  5.  5.  5.  5.  5.  5.\n   5.  6.  6.  6.  6.  6.  7.  7.  7.  7.  8.  8. 10. 10. 10. 10. 12. 12.\n  12. 12. 12. 12. 14. 14. 14. 14. 14. 15.]]\n16\n(2, 100)\n2\n[[ 0.  1.  2.  3.  4.  5.  6.  7.  8.  9. 10. 11. 12. 13. 14. 15.]\n [15. 12.  1.  2. 39. 10.  6.  5.  3.  1.  5.  1.  7.  1.  6.  2.]]\n(2, 16)\n"
     ]
    }
   ],
   "source": [
    "# ?model.generate\n",
    "res = model.generate(batch_size=2,outputs=['GMN','S','d'])"
   ]
  },
  {
   "cell_type": "code",
   "execution_count": 4,
   "metadata": {},
   "outputs": [
    {
     "output_type": "execute_result",
     "data": {
      "text/plain": [
       "{'S': array([[-1.,  0.,  1.,  2.,  3.,  4.,  5.,  6.,  7.,  8.,  9., 10., 11.,\n",
       "         12., 13., 14.],\n",
       "        [14., 11.,  0.,  1., 38.,  9.,  5.,  4.,  2.,  0.,  4.,  0.,  6.,\n",
       "          0.,  5.,  1.]]),\n",
       " 'd': array([51.80733539, 41.27953488]),\n",
       " 'GMN': array([[ 0.,  1.,  1.,  1.,  1.,  1.,  1.,  1.,  1.,  1.,  1.,  1.,  1.,\n",
       "          1.,  1.,  1.,  1.,  1.,  1.,  2.,  3.,  3.,  3.,  3.,  3.,  3.,\n",
       "          3.,  4.,  4.,  5.,  5.,  5.,  5.,  5.,  5.,  5.,  5.,  5.,  6.,\n",
       "          6.,  7.,  7.,  7.,  7.,  7.,  9.,  9.,  9.,  9.,  9.,  9.,  9.,\n",
       "          9.,  9.,  9.,  9.,  9.,  9.,  9.,  9.,  9.,  9.,  9., 11., 11.,\n",
       "         11., 11., 11., 11., 11., 11., 11., 11., 11., 11., 11., 11., 11.,\n",
       "         11., 11., 11., 11., 11., 11., 11., 11., 11., 11., 11., 11., 11.,\n",
       "         11., 11., 11., 11., 11., 11., 11., 13., 15.],\n",
       "        [ 0.,  0.,  0.,  0.,  0.,  0.,  0.,  0.,  0.,  0.,  0.,  0.,  0.,\n",
       "          0.,  1.,  1.,  1.,  1.,  1.,  1.,  1.,  1.,  1.,  1.,  1.,  3.,\n",
       "          4.,  4.,  4.,  4.,  4.,  4.,  4.,  4.,  4.,  4.,  4.,  4.,  4.,\n",
       "          4.,  4.,  4.,  4.,  4.,  4.,  4.,  4.,  4.,  4.,  4.,  4.,  4.,\n",
       "          4.,  4.,  4.,  4.,  4.,  4.,  4.,  4.,  4.,  4.,  4.,  4.,  5.,\n",
       "          5.,  5.,  5.,  5.,  5.,  5.,  5.,  5.,  6.,  6.,  6.,  6.,  6.,\n",
       "          7.,  7.,  7.,  7.,  8.,  8., 10., 10., 10., 10., 12., 12., 12.,\n",
       "         12., 12., 12., 14., 14., 14., 14., 14., 15.]])}"
      ]
     },
     "metadata": {},
     "execution_count": 4
    }
   ],
   "source": [
    "res"
   ]
  },
  {
   "cell_type": "code",
   "execution_count": 13,
   "metadata": {},
   "outputs": [
    {
     "output_type": "execute_result",
     "data": {
      "text/plain": [
       "(100, 4)"
      ]
     },
     "metadata": {},
     "execution_count": 13
    }
   ],
   "source": [
    "res['GMN'].shape"
   ]
  },
  {
   "cell_type": "code",
   "execution_count": 4,
   "metadata": {},
   "outputs": [
    {
     "output_type": "stream",
     "name": "stdout",
     "text": [
      "[[0. 1. 1. 1.]\n [1. 0. 1. 0.]\n [1. 1. 0. 0.]\n [1. 0. 0. 0.]]\n[[0. 1. 1. 1.]\n [0. 0. 1. 0.]\n [0. 0. 0. 0.]\n [0. 0. 0. 0.]]\n[0 1 2 3]\n"
     ]
    }
   ],
   "source": [
    "dag, node_ordering = mn.ug_to_dag(ug)\n",
    "print(ug)\n",
    "print(dag)\n",
    "print(node_ordering)"
   ]
  },
  {
   "cell_type": "code",
   "execution_count": 6,
   "metadata": {},
   "outputs": [
    {
     "output_type": "execute_result",
     "data": {
      "text/plain": [
       "array([[ -2.31976435],\n",
       "       [  0.26793721],\n",
       "       [ -1.96695206],\n",
       "       [ -8.51791329],\n",
       "       [  1.32422672],\n",
       "       [-12.35055686],\n",
       "       [-14.29780551],\n",
       "       [ 14.72327849],\n",
       "       [ 22.66087623],\n",
       "       [-19.13751914]])"
      ]
     },
     "metadata": {},
     "execution_count": 6
    }
   ],
   "source": [
    "para_val_true"
   ]
  },
  {
   "cell_type": "code",
   "execution_count": 7,
   "metadata": {},
   "outputs": [
    {
     "output_type": "stream",
     "name": "stdout",
     "text": [
      "[[False False False False]\n [False False False  True]\n [False False  True False]\n [False  True False False]\n [False  True  True False]\n [ True False False False]\n [ True False False  True]\n [ True False  True False]\n [ True  True False False]\n [ True  True  True False]]\n"
     ]
    }
   ],
   "source": [
    "para_mat_true, para_val_true = mn.mn_sample_para(ug, 10, 10)\n",
    "print(para_mat_true)"
   ]
  },
  {
   "cell_type": "code",
   "execution_count": 8,
   "metadata": {},
   "outputs": [
    {
     "output_type": "execute_result",
     "data": {
      "text/plain": [
       "array([[0., 1., 1., 1.],\n",
       "       [0., 0., 1., 0.],\n",
       "       [0., 0., 0., 0.],\n",
       "       [0., 0., 0., 0.]])"
      ]
     },
     "metadata": {},
     "execution_count": 8
    }
   ],
   "source": [
    "dag"
   ]
  },
  {
   "cell_type": "code",
   "execution_count": 9,
   "metadata": {},
   "outputs": [],
   "source": [
    "dag, node_ordering = mn.ug_to_dag(ug)"
   ]
  },
  {
   "cell_type": "code",
   "execution_count": 10,
   "metadata": {},
   "outputs": [
    {
     "output_type": "stream",
     "name": "stdout",
     "text": [
      "[[0. 1. 1. 1.]\n [1. 0. 1. 0.]\n [1. 1. 0. 0.]\n [1. 0. 0. 0.]]\n"
     ]
    }
   ],
   "source": [
    "print(ug)"
   ]
  },
  {
   "cell_type": "code",
   "execution_count": 31,
   "metadata": {},
   "outputs": [
    {
     "output_type": "error",
     "ename": "AttributeError",
     "evalue": "'numpy.ndarray' object has no attribute 'len'",
     "traceback": [
      "\u001b[0;31m---------------------------------------------------------------------------\u001b[0m",
      "\u001b[0;31mAttributeError\u001b[0m                            Traceback (most recent call last)",
      "\u001b[0;32m<ipython-input-31-fbc8f73602ba>\u001b[0m in \u001b[0;36m<module>\u001b[0;34m\u001b[0m\n\u001b[0;32m----> 1\u001b[0;31m \u001b[0mdag\u001b[0m\u001b[0;34m[\u001b[0m\u001b[0;34m:\u001b[0m\u001b[0;34m,\u001b[0m\u001b[0;36m1\u001b[0m\u001b[0;34m]\u001b[0m\u001b[0;34m.\u001b[0m\u001b[0mlen\u001b[0m\u001b[0;34m\u001b[0m\u001b[0;34m\u001b[0m\u001b[0m\n\u001b[0m",
      "\u001b[0;31mAttributeError\u001b[0m: 'numpy.ndarray' object has no attribute 'len'"
     ]
    }
   ],
   "source": []
  },
  {
   "cell_type": "code",
   "execution_count": 36,
   "metadata": {},
   "outputs": [
    {
     "output_type": "stream",
     "name": "stdout",
     "text": [
      "1\n"
     ]
    }
   ],
   "source": [
    "node = 3\n",
    "par = np.where(dag[:, node] == 1)[0]\n",
    "print(par.size)"
   ]
  },
  {
   "cell_type": "code",
   "execution_count": 3,
   "metadata": {},
   "outputs": [
    {
     "output_type": "stream",
     "text": [
      "\u001b[0;31mSignature:\u001b[0m \u001b[0mnp\u001b[0m\u001b[0;34m.\u001b[0m\u001b[0mtile\u001b[0m\u001b[0;34m(\u001b[0m\u001b[0mA\u001b[0m\u001b[0;34m,\u001b[0m \u001b[0mreps\u001b[0m\u001b[0;34m)\u001b[0m\u001b[0;34m\u001b[0m\u001b[0;34m\u001b[0m\u001b[0m\n",
      "\u001b[0;31mDocstring:\u001b[0m\n",
      "Construct an array by repeating A the number of times given by reps.\n",
      "\n",
      "If `reps` has length ``d``, the result will have dimension of\n",
      "``max(d, A.ndim)``.\n",
      "\n",
      "If ``A.ndim < d``, `A` is promoted to be d-dimensional by prepending new\n",
      "axes. So a shape (3,) array is promoted to (1, 3) for 2-D replication,\n",
      "or shape (1, 1, 3) for 3-D replication. If this is not the desired\n",
      "behavior, promote `A` to d-dimensions manually before calling this\n",
      "function.\n",
      "\n",
      "If ``A.ndim > d``, `reps` is promoted to `A`.ndim by pre-pending 1's to it.\n",
      "Thus for an `A` of shape (2, 3, 4, 5), a `reps` of (2, 2) is treated as\n",
      "(1, 1, 2, 2).\n",
      "\n",
      "Note : Although tile may be used for broadcasting, it is strongly\n",
      "recommended to use numpy's broadcasting operations and functions.\n",
      "\n",
      "Parameters\n",
      "----------\n",
      "A : array_like\n",
      "    The input array.\n",
      "reps : array_like\n",
      "    The number of repetitions of `A` along each axis.\n",
      "\n",
      "Returns\n",
      "-------\n",
      "c : ndarray\n",
      "    The tiled output array.\n",
      "\n",
      "See Also\n",
      "--------\n",
      "repeat : Repeat elements of an array.\n",
      "broadcast_to : Broadcast an array to a new shape\n",
      "\n",
      "Examples\n",
      "--------\n",
      ">>> a = np.array([0, 1, 2])\n",
      ">>> np.tile(a, 2)\n",
      "array([0, 1, 2, 0, 1, 2])\n",
      ">>> np.tile(a, (2, 2))\n",
      "array([[0, 1, 2, 0, 1, 2],\n",
      "       [0, 1, 2, 0, 1, 2]])\n",
      ">>> np.tile(a, (2, 1, 2))\n",
      "array([[[0, 1, 2, 0, 1, 2]],\n",
      "       [[0, 1, 2, 0, 1, 2]]])\n",
      "\n",
      ">>> b = np.array([[1, 2], [3, 4]])\n",
      ">>> np.tile(b, 2)\n",
      "array([[1, 2, 1, 2],\n",
      "       [3, 4, 3, 4]])\n",
      ">>> np.tile(b, (2, 1))\n",
      "array([[1, 2],\n",
      "       [3, 4],\n",
      "       [1, 2],\n",
      "       [3, 4]])\n",
      "\n",
      ">>> c = np.array([1,2,3,4])\n",
      ">>> np.tile(c,(4,1))\n",
      "array([[1, 2, 3, 4],\n",
      "       [1, 2, 3, 4],\n",
      "       [1, 2, 3, 4],\n",
      "       [1, 2, 3, 4]])\n",
      "\u001b[0;31mFile:\u001b[0m      /opt/anaconda3/envs/elfi36/lib/python3.6/site-packages/numpy/lib/shape_base.py\n",
      "\u001b[0;31mType:\u001b[0m      function\n"
     ],
     "name": "stdout"
    }
   ],
   "source": [
    "?np.tile"
   ]
  },
  {
   "cell_type": "code",
   "execution_count": 23,
   "metadata": {},
   "outputs": [
    {
     "output_type": "error",
     "ename": "TypeError",
     "evalue": "only size-1 arrays can be converted to Python scalars",
     "traceback": [
      "\u001b[0;31m---------------------------------------------------------------------------\u001b[0m",
      "\u001b[0;31mTypeError\u001b[0m                                 Traceback (most recent call last)",
      "\u001b[0;32m<ipython-input-23-5c0655eae883>\u001b[0m in \u001b[0;36m<module>\u001b[0;34m\u001b[0m\n\u001b[0;32m----> 1\u001b[0;31m \u001b[0mss\u001b[0m\u001b[0;34m.\u001b[0m\u001b[0mmultinomial\u001b[0m\u001b[0;34m.\u001b[0m\u001b[0mrvs\u001b[0m\u001b[0;34m(\u001b[0m\u001b[0;34m[\u001b[0m\u001b[0;36m10\u001b[0m\u001b[0;34m,\u001b[0m\u001b[0;36m10\u001b[0m\u001b[0;34m]\u001b[0m\u001b[0;34m,\u001b[0m \u001b[0mnp\u001b[0m\u001b[0;34m.\u001b[0m\u001b[0marray\u001b[0m\u001b[0;34m(\u001b[0m\u001b[0;34m[\u001b[0m\u001b[0;34m[\u001b[0m\u001b[0;36m0.1\u001b[0m\u001b[0;34m,\u001b[0m \u001b[0;36m0.2\u001b[0m\u001b[0;34m,\u001b[0m \u001b[0;36m0.7\u001b[0m\u001b[0;34m]\u001b[0m\u001b[0;34m,\u001b[0m\u001b[0;34m[\u001b[0m\u001b[0;36m0.3\u001b[0m\u001b[0;34m,\u001b[0m \u001b[0;36m0.3\u001b[0m\u001b[0;34m,\u001b[0m \u001b[0;36m0.4\u001b[0m\u001b[0;34m]\u001b[0m\u001b[0;34m]\u001b[0m\u001b[0;34m)\u001b[0m\u001b[0;34m,\u001b[0m \u001b[0msize\u001b[0m\u001b[0;34m=\u001b[0m\u001b[0;36m2\u001b[0m\u001b[0;34m,\u001b[0m \u001b[0mrandom_state\u001b[0m\u001b[0;34m=\u001b[0m\u001b[0;32mNone\u001b[0m\u001b[0;34m)\u001b[0m\u001b[0;34m\u001b[0m\u001b[0;34m\u001b[0m\u001b[0m\n\u001b[0m",
      "\u001b[0;32m/opt/anaconda3/envs/elfi36/lib/python3.6/site-packages/scipy/stats/_multivariate.py\u001b[0m in \u001b[0;36mrvs\u001b[0;34m(self, n, p, size, random_state)\u001b[0m\n\u001b[1;32m   3235\u001b[0m         \u001b[0mn\u001b[0m\u001b[0;34m,\u001b[0m \u001b[0mp\u001b[0m\u001b[0;34m,\u001b[0m \u001b[0mnpcond\u001b[0m \u001b[0;34m=\u001b[0m \u001b[0mself\u001b[0m\u001b[0;34m.\u001b[0m\u001b[0m_process_parameters\u001b[0m\u001b[0;34m(\u001b[0m\u001b[0mn\u001b[0m\u001b[0;34m,\u001b[0m \u001b[0mp\u001b[0m\u001b[0;34m)\u001b[0m\u001b[0;34m\u001b[0m\u001b[0;34m\u001b[0m\u001b[0m\n\u001b[1;32m   3236\u001b[0m         \u001b[0mrandom_state\u001b[0m \u001b[0;34m=\u001b[0m \u001b[0mself\u001b[0m\u001b[0;34m.\u001b[0m\u001b[0m_get_random_state\u001b[0m\u001b[0;34m(\u001b[0m\u001b[0mrandom_state\u001b[0m\u001b[0;34m)\u001b[0m\u001b[0;34m\u001b[0m\u001b[0;34m\u001b[0m\u001b[0m\n\u001b[0;32m-> 3237\u001b[0;31m         \u001b[0;32mreturn\u001b[0m \u001b[0mrandom_state\u001b[0m\u001b[0;34m.\u001b[0m\u001b[0mmultinomial\u001b[0m\u001b[0;34m(\u001b[0m\u001b[0mn\u001b[0m\u001b[0;34m,\u001b[0m \u001b[0mp\u001b[0m\u001b[0;34m,\u001b[0m \u001b[0msize\u001b[0m\u001b[0;34m)\u001b[0m\u001b[0;34m\u001b[0m\u001b[0;34m\u001b[0m\u001b[0m\n\u001b[0m\u001b[1;32m   3238\u001b[0m \u001b[0;34m\u001b[0m\u001b[0m\n\u001b[1;32m   3239\u001b[0m \u001b[0;34m\u001b[0m\u001b[0m\n",
      "\u001b[0;32mmtrand.pyx\u001b[0m in \u001b[0;36mnumpy.random.mtrand.RandomState.multinomial\u001b[0;34m()\u001b[0m\n",
      "\u001b[0;31mTypeError\u001b[0m: only size-1 arrays can be converted to Python scalars"
     ]
    }
   ],
   "source": [
    "ss.multinomial.rvs([10,10], np.array([[0.1, 0.2, 0.7],[0.3, 0.3, 0.4]]), size=2, random_state=None)"
   ]
  },
  {
   "cell_type": "code",
   "execution_count": 25,
   "metadata": {},
   "outputs": [
    {
     "output_type": "execute_result",
     "data": {
      "text/plain": [
       "(5,)"
      ]
     },
     "metadata": {},
     "execution_count": 25
    }
   ],
   "source": [
    "ss.beta.rvs(0.1, 0.1, size=5).shape"
   ]
  },
  {
   "cell_type": "code",
   "execution_count": 4,
   "metadata": {},
   "outputs": [
    {
     "output_type": "error",
     "ename": "NameError",
     "evalue": "name 'array' is not defined",
     "traceback": [
      "\u001b[0;31m---------------------------------------------------------------------------\u001b[0m",
      "\u001b[0;31mNameError\u001b[0m                                 Traceback (most recent call last)",
      "\u001b[0;32m<ipython-input-4-25eedd3b40a9>\u001b[0m in \u001b[0;36m<module>\u001b[0;34m\u001b[0m\n\u001b[0;32m----> 1\u001b[0;31m \u001b[0mz\u001b[0m \u001b[0;34m=\u001b[0m  \u001b[0;34m(\u001b[0m\u001b[0marray\u001b[0m\u001b[0;34m(\u001b[0m\u001b[0;34m[\u001b[0m\u001b[0;36m0.31122762\u001b[0m\u001b[0;34m,\u001b[0m \u001b[0;36m0.35690599\u001b[0m\u001b[0;34m]\u001b[0m\u001b[0;34m)\u001b[0m\u001b[0;34m,\u001b[0m \u001b[0marray\u001b[0m\u001b[0;34m(\u001b[0m\u001b[0;34m[\u001b[0m\u001b[0;36m0.22026763\u001b[0m\u001b[0;34m,\u001b[0m \u001b[0;36m0.99994579\u001b[0m\u001b[0;34m]\u001b[0m\u001b[0;34m)\u001b[0m\u001b[0;34m,\u001b[0m \u001b[0marray\u001b[0m\u001b[0;34m(\u001b[0m\u001b[0;34m[\u001b[0m\u001b[0;36m0.99549973\u001b[0m\u001b[0;34m,\u001b[0m \u001b[0;36m0.53046661\u001b[0m\u001b[0;34m]\u001b[0m\u001b[0;34m)\u001b[0m\u001b[0;34m,\u001b[0m \u001b[0marray\u001b[0m\u001b[0;34m(\u001b[0m\u001b[0;34m[\u001b[0m\u001b[0;36m4.05215817e-01\u001b[0m\u001b[0;34m,\u001b[0m \u001b[0;36m1.61070359e-06\u001b[0m\u001b[0;34m]\u001b[0m\u001b[0;34m)\u001b[0m\u001b[0;34m,\u001b[0m \u001b[0marray\u001b[0m\u001b[0;34m(\u001b[0m\u001b[0;34m[\u001b[0m\u001b[0;36m0.71567369\u001b[0m\u001b[0;34m,\u001b[0m \u001b[0;36m0.99999985\u001b[0m\u001b[0;34m]\u001b[0m\u001b[0;34m)\u001b[0m\u001b[0;34m,\u001b[0m \u001b[0marray\u001b[0m\u001b[0;34m(\u001b[0m\u001b[0;34m[\u001b[0m\u001b[0;36m0.2826452\u001b[0m \u001b[0;34m,\u001b[0m \u001b[0;36m0.32809147\u001b[0m\u001b[0;34m]\u001b[0m\u001b[0;34m)\u001b[0m\u001b[0;34m,\u001b[0m \u001b[0marray\u001b[0m\u001b[0;34m(\u001b[0m\u001b[0;34m[\u001b[0m\u001b[0;36m0.94246955\u001b[0m\u001b[0;34m,\u001b[0m \u001b[0;36m0.05651268\u001b[0m\u001b[0;34m]\u001b[0m\u001b[0;34m)\u001b[0m\u001b[0;34m)\u001b[0m\u001b[0;34m\u001b[0m\u001b[0;34m\u001b[0m\u001b[0m\n\u001b[0m",
      "\u001b[0;31mNameError\u001b[0m: name 'array' is not defined"
     ]
    }
   ],
   "source": [
    "z = (array([0.31122762, 0.35690599]), array([0.22026763, 0.99994579]), array([0.99549973, 0.53046661]), array([4.05215817e-01, 1.61070359e-06]), array([0.71567369, 0.99999985]), array([0.2826452 , 0.32809147]), array([0.94246955, 0.05651268]))"
   ]
  },
  {
   "cell_type": "code",
   "execution_count": 18,
   "metadata": {},
   "outputs": [],
   "source": [
    "a = np.array((0, 1))\n",
    "b = np.array((2, 1))\n",
    "c = np.array((3, 4))\n",
    "d = np.column_stack((a,b,c))"
   ]
  },
  {
   "cell_type": "code",
   "execution_count": 19,
   "metadata": {},
   "outputs": [
    {
     "output_type": "execute_result",
     "data": {
      "text/plain": [
       "array([[0, 2, 3],\n",
       "       [1, 1, 4]])"
      ]
     },
     "metadata": {},
     "execution_count": 19
    }
   ],
   "source": [
    "d"
   ]
  },
  {
   "cell_type": "code",
   "execution_count": 20,
   "metadata": {},
   "outputs": [
    {
     "output_type": "stream",
     "name": "stdout",
     "text": [
      "(1, 5)\n[[0 1 2 3 4]\n [2 1 2 2 1]]\n[[0 1 2 3 4]\n [1 3 1 1 2]]\n"
     ]
    }
   ],
   "source": [
    "e = np.atleast_2d(np.arange((5)))\n",
    "print(e.shape)\n",
    "tmp0, tmp1 = np.apply_along_axis(np.unique, 1, np.column_stack((d, e[np.zeros(2).astype(int),:])), return_counts=True)\n",
    "# tmp, counts = np.unique(np.column_stack((d, e[np.zeros(2).astype(int),:])), axis=1, return_counts=True)\n",
    "print(tmp0)\n",
    "print(tmp1)\n",
    "# print(counts)"
   ]
  },
  {
   "cell_type": "code",
   "execution_count": 13,
   "metadata": {},
   "outputs": [
    {
     "output_type": "stream",
     "text": [
      "\u001b[0;31mSignature:\u001b[0m \u001b[0mnp\u001b[0m\u001b[0;34m.\u001b[0m\u001b[0mapply_along_axis\u001b[0m\u001b[0;34m(\u001b[0m\u001b[0mfunc1d\u001b[0m\u001b[0;34m,\u001b[0m \u001b[0maxis\u001b[0m\u001b[0;34m,\u001b[0m \u001b[0marr\u001b[0m\u001b[0;34m,\u001b[0m \u001b[0;34m*\u001b[0m\u001b[0margs\u001b[0m\u001b[0;34m,\u001b[0m \u001b[0;34m**\u001b[0m\u001b[0mkwargs\u001b[0m\u001b[0;34m)\u001b[0m\u001b[0;34m\u001b[0m\u001b[0;34m\u001b[0m\u001b[0m\n",
      "\u001b[0;31mDocstring:\u001b[0m\n",
      "Apply a function to 1-D slices along the given axis.\n",
      "\n",
      "Execute `func1d(a, *args)` where `func1d` operates on 1-D arrays and `a`\n",
      "is a 1-D slice of `arr` along `axis`.\n",
      "\n",
      "This is equivalent to (but faster than) the following use of `ndindex` and\n",
      "`s_`, which sets each of ``ii``, ``jj``, and ``kk`` to a tuple of indices::\n",
      "\n",
      "    Ni, Nk = a.shape[:axis], a.shape[axis+1:]\n",
      "    for ii in ndindex(Ni):\n",
      "        for kk in ndindex(Nk):\n",
      "            f = func1d(arr[ii + s_[:,] + kk])\n",
      "            Nj = f.shape\n",
      "            for jj in ndindex(Nj):\n",
      "                out[ii + jj + kk] = f[jj]\n",
      "\n",
      "Equivalently, eliminating the inner loop, this can be expressed as::\n",
      "\n",
      "    Ni, Nk = a.shape[:axis], a.shape[axis+1:]\n",
      "    for ii in ndindex(Ni):\n",
      "        for kk in ndindex(Nk):\n",
      "            out[ii + s_[...,] + kk] = func1d(arr[ii + s_[:,] + kk])\n",
      "\n",
      "Parameters\n",
      "----------\n",
      "func1d : function (M,) -> (Nj...)\n",
      "    This function should accept 1-D arrays. It is applied to 1-D\n",
      "    slices of `arr` along the specified axis.\n",
      "axis : integer\n",
      "    Axis along which `arr` is sliced.\n",
      "arr : ndarray (Ni..., M, Nk...)\n",
      "    Input array.\n",
      "args : any\n",
      "    Additional arguments to `func1d`.\n",
      "kwargs : any\n",
      "    Additional named arguments to `func1d`.\n",
      "\n",
      "    .. versionadded:: 1.9.0\n",
      "\n",
      "\n",
      "Returns\n",
      "-------\n",
      "out : ndarray  (Ni..., Nj..., Nk...)\n",
      "    The output array. The shape of `out` is identical to the shape of\n",
      "    `arr`, except along the `axis` dimension. This axis is removed, and\n",
      "    replaced with new dimensions equal to the shape of the return value\n",
      "    of `func1d`. So if `func1d` returns a scalar `out` will have one\n",
      "    fewer dimensions than `arr`.\n",
      "\n",
      "See Also\n",
      "--------\n",
      "apply_over_axes : Apply a function repeatedly over multiple axes.\n",
      "\n",
      "Examples\n",
      "--------\n",
      ">>> def my_func(a):\n",
      "...     \"\"\"Average first and last element of a 1-D array\"\"\"\n",
      "...     return (a[0] + a[-1]) * 0.5\n",
      ">>> b = np.array([[1,2,3], [4,5,6], [7,8,9]])\n",
      ">>> np.apply_along_axis(my_func, 0, b)\n",
      "array([4., 5., 6.])\n",
      ">>> np.apply_along_axis(my_func, 1, b)\n",
      "array([2.,  5.,  8.])\n",
      "\n",
      "For a function that returns a 1D array, the number of dimensions in\n",
      "`outarr` is the same as `arr`.\n",
      "\n",
      ">>> b = np.array([[8,1,7], [4,3,9], [5,2,6]])\n",
      ">>> np.apply_along_axis(sorted, 1, b)\n",
      "array([[1, 7, 8],\n",
      "       [3, 4, 9],\n",
      "       [2, 5, 6]])\n",
      "\n",
      "For a function that returns a higher dimensional array, those dimensions\n",
      "are inserted in place of the `axis` dimension.\n",
      "\n",
      ">>> b = np.array([[1,2,3], [4,5,6], [7,8,9]])\n",
      ">>> np.apply_along_axis(np.diag, -1, b)\n",
      "array([[[1, 0, 0],\n",
      "        [0, 2, 0],\n",
      "        [0, 0, 3]],\n",
      "       [[4, 0, 0],\n",
      "        [0, 5, 0],\n",
      "        [0, 0, 6]],\n",
      "       [[7, 0, 0],\n",
      "        [0, 8, 0],\n",
      "        [0, 0, 9]]])\n",
      "\u001b[0;31mFile:\u001b[0m      /opt/anaconda3/envs/elfi36/lib/python3.6/site-packages/numpy/lib/shape_base.py\n",
      "\u001b[0;31mType:\u001b[0m      function\n"
     ],
     "name": "stdout"
    }
   ],
   "source": [
    "?np.apply_along_axis"
   ]
  },
  {
   "cell_type": "code",
   "execution_count": 9,
   "metadata": {},
   "outputs": [
    {
     "output_type": "stream",
     "text": [
      "\u001b[0;31mSignature:\u001b[0m\n",
      "\u001b[0mnp\u001b[0m\u001b[0;34m.\u001b[0m\u001b[0munique\u001b[0m\u001b[0;34m(\u001b[0m\u001b[0;34m\u001b[0m\n",
      "\u001b[0;34m\u001b[0m    \u001b[0mar\u001b[0m\u001b[0;34m,\u001b[0m\u001b[0;34m\u001b[0m\n",
      "\u001b[0;34m\u001b[0m    \u001b[0mreturn_index\u001b[0m\u001b[0;34m=\u001b[0m\u001b[0;32mFalse\u001b[0m\u001b[0;34m,\u001b[0m\u001b[0;34m\u001b[0m\n",
      "\u001b[0;34m\u001b[0m    \u001b[0mreturn_inverse\u001b[0m\u001b[0;34m=\u001b[0m\u001b[0;32mFalse\u001b[0m\u001b[0;34m,\u001b[0m\u001b[0;34m\u001b[0m\n",
      "\u001b[0;34m\u001b[0m    \u001b[0mreturn_counts\u001b[0m\u001b[0;34m=\u001b[0m\u001b[0;32mFalse\u001b[0m\u001b[0;34m,\u001b[0m\u001b[0;34m\u001b[0m\n",
      "\u001b[0;34m\u001b[0m    \u001b[0maxis\u001b[0m\u001b[0;34m=\u001b[0m\u001b[0;32mNone\u001b[0m\u001b[0;34m,\u001b[0m\u001b[0;34m\u001b[0m\n",
      "\u001b[0;34m\u001b[0m\u001b[0;34m)\u001b[0m\u001b[0;34m\u001b[0m\u001b[0;34m\u001b[0m\u001b[0m\n",
      "\u001b[0;31mDocstring:\u001b[0m\n",
      "Find the unique elements of an array.\n",
      "\n",
      "Returns the sorted unique elements of an array. There are three optional\n",
      "outputs in addition to the unique elements:\n",
      "\n",
      "* the indices of the input array that give the unique values\n",
      "* the indices of the unique array that reconstruct the input array\n",
      "* the number of times each unique value comes up in the input array\n",
      "\n",
      "Parameters\n",
      "----------\n",
      "ar : array_like\n",
      "    Input array. Unless `axis` is specified, this will be flattened if it\n",
      "    is not already 1-D.\n",
      "return_index : bool, optional\n",
      "    If True, also return the indices of `ar` (along the specified axis,\n",
      "    if provided, or in the flattened array) that result in the unique array.\n",
      "return_inverse : bool, optional\n",
      "    If True, also return the indices of the unique array (for the specified\n",
      "    axis, if provided) that can be used to reconstruct `ar`.\n",
      "return_counts : bool, optional\n",
      "    If True, also return the number of times each unique item appears\n",
      "    in `ar`.\n",
      "\n",
      "    .. versionadded:: 1.9.0\n",
      "\n",
      "axis : int or None, optional\n",
      "    The axis to operate on. If None, `ar` will be flattened. If an integer,\n",
      "    the subarrays indexed by the given axis will be flattened and treated\n",
      "    as the elements of a 1-D array with the dimension of the given axis,\n",
      "    see the notes for more details.  Object arrays or structured arrays\n",
      "    that contain objects are not supported if the `axis` kwarg is used. The\n",
      "    default is None.\n",
      "\n",
      "    .. versionadded:: 1.13.0\n",
      "\n",
      "Returns\n",
      "-------\n",
      "unique : ndarray\n",
      "    The sorted unique values.\n",
      "unique_indices : ndarray, optional\n",
      "    The indices of the first occurrences of the unique values in the\n",
      "    original array. Only provided if `return_index` is True.\n",
      "unique_inverse : ndarray, optional\n",
      "    The indices to reconstruct the original array from the\n",
      "    unique array. Only provided if `return_inverse` is True.\n",
      "unique_counts : ndarray, optional\n",
      "    The number of times each of the unique values comes up in the\n",
      "    original array. Only provided if `return_counts` is True.\n",
      "\n",
      "    .. versionadded:: 1.9.0\n",
      "\n",
      "See Also\n",
      "--------\n",
      "numpy.lib.arraysetops : Module with a number of other functions for\n",
      "                        performing set operations on arrays.\n",
      "\n",
      "Notes\n",
      "-----\n",
      "When an axis is specified the subarrays indexed by the axis are sorted.\n",
      "This is done by making the specified axis the first dimension of the array\n",
      "(move the axis to the first dimension to keep the order of the other axes)\n",
      "and then flattening the subarrays in C order. The flattened subarrays are\n",
      "then viewed as a structured type with each element given a label, with the\n",
      "effect that we end up with a 1-D array of structured types that can be\n",
      "treated in the same way as any other 1-D array. The result is that the\n",
      "flattened subarrays are sorted in lexicographic order starting with the\n",
      "first element.\n",
      "\n",
      "Examples\n",
      "--------\n",
      ">>> np.unique([1, 1, 2, 2, 3, 3])\n",
      "array([1, 2, 3])\n",
      ">>> a = np.array([[1, 1], [2, 3]])\n",
      ">>> np.unique(a)\n",
      "array([1, 2, 3])\n",
      "\n",
      "Return the unique rows of a 2D array\n",
      "\n",
      ">>> a = np.array([[1, 0, 0], [1, 0, 0], [2, 3, 4]])\n",
      ">>> np.unique(a, axis=0)\n",
      "array([[1, 0, 0], [2, 3, 4]])\n",
      "\n",
      "Return the indices of the original array that give the unique values:\n",
      "\n",
      ">>> a = np.array(['a', 'b', 'b', 'c', 'a'])\n",
      ">>> u, indices = np.unique(a, return_index=True)\n",
      ">>> u\n",
      "array(['a', 'b', 'c'], dtype='<U1')\n",
      ">>> indices\n",
      "array([0, 1, 3])\n",
      ">>> a[indices]\n",
      "array(['a', 'b', 'c'], dtype='<U1')\n",
      "\n",
      "Reconstruct the input array from the unique values:\n",
      "\n",
      ">>> a = np.array([1, 2, 6, 4, 2, 3, 2])\n",
      ">>> u, indices = np.unique(a, return_inverse=True)\n",
      ">>> u\n",
      "array([1, 2, 3, 4, 6])\n",
      ">>> indices\n",
      "array([0, 1, 4, ..., 1, 2, 1])\n",
      ">>> u[indices]\n",
      "array([1, 2, 6, ..., 2, 3, 2])\n",
      "\u001b[0;31mFile:\u001b[0m      /opt/anaconda3/envs/elfi36/lib/python3.6/site-packages/numpy/lib/arraysetops.py\n",
      "\u001b[0;31mType:\u001b[0m      function\n"
     ],
     "name": "stdout"
    }
   ],
   "source": [
    "?np.unique"
   ]
  },
  {
   "cell_type": "code",
   "execution_count": null,
   "metadata": {},
   "outputs": [],
   "source": []
  }
 ],
 "metadata": {
  "kernelspec": {
   "display_name": "Python 3.6.9 64-bit ('elfi36': conda)",
   "language": "python",
   "name": "python36964bitelfi36conda8bec451552304612bd355a97e3742bbb"
  },
  "language_info": {
   "codemirror_mode": {
    "name": "ipython",
    "version": 3
   },
   "file_extension": ".py",
   "mimetype": "text/x-python",
   "name": "python",
   "nbconvert_exporter": "python",
   "pygments_lexer": "ipython3",
   "version": "3.6.10-final"
  }
 },
 "nbformat": 4,
 "nbformat_minor": 4
}