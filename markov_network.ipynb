{
 "cells": [
  {
   "source": [
    "This is an example notebook on the Markov network simulator-model. The model is constructed in ELFI-format. "
   ],
   "cell_type": "markdown",
   "metadata": {}
  },
  {
   "cell_type": "code",
   "execution_count": 1,
   "metadata": {},
   "outputs": [],
   "source": [
    "from functools import partial\n",
    "import itertools\n",
    "\n",
    "import elfi\n",
    "import numpy as np\n",
    "import scipy.stats as ss\n",
    "import markov_network as mn"
   ]
  },
  {
   "cell_type": "code",
   "execution_count": null,
   "metadata": {},
   "outputs": [],
   "source": []
  },
  {
   "cell_type": "code",
   "execution_count": 2,
   "metadata": {},
   "outputs": [
    {
     "output_type": "stream",
     "name": "stdout",
     "text": [
      "How does this work??\n[[False False False False]\n [False False False  True]\n [False False  True False]\n [False  True False False]\n [ True False False False]\n [ True False False  True]\n [ True False  True False]\n [ True  True False False]]\n[[-2.87758218e+00]\n [ 2.48152848e+00]\n [-6.74073035e+00]\n [-1.00164994e+01]\n [-9.95310739e-01]\n [ 2.22044605e-16]\n [ 0.00000000e+00]\n [ 0.00000000e+00]]\n[[0 0 0 0 0 0 2 1 0 0 0 0 0 0 7 0]]\n[[ True False False  True]\n [ True False False  True]\n [ True False False False]\n [False False False  True]\n [False False False  True]\n [False False False  True]\n [False False False  True]\n [False False False  True]\n [False False False  True]\n [False False False  True]]\n"
     ]
    }
   ],
   "source": [
    "ug = np.zeros((4, 4))\n",
    "ug[0,1:4] = 1\n",
    "# ug = np.max(ug, ug.T)\n",
    "ug = ug + ug.T\n",
    "\n",
    "# Generate values from the prior as the ground truth\n",
    "para_mat_true, para_val_true = mn.mn_sample_para(ug, 1, 5)\n",
    "print(para_mat_true)\n",
    "print(para_val_true)\n",
    "# Generate observed data\n",
    "obs_data = mn.mn_generate_data(para_mat_true, para_val_true, 100, 0)\n",
    "print(obs_data)"
   ]
  },
  {
   "cell_type": "code",
   "execution_count": null,
   "metadata": {},
   "outputs": [],
   "source": []
  }
 ],
 "metadata": {
  "kernelspec": {
   "display_name": "Python 3.6.9 64-bit ('elfi36': conda)",
   "language": "python",
   "name": "python36964bitelfi36conda8bec451552304612bd355a97e3742bbb"
  },
  "language_info": {
   "codemirror_mode": {
    "name": "ipython",
    "version": 3
   },
   "file_extension": ".py",
   "mimetype": "text/x-python",
   "name": "python",
   "nbconvert_exporter": "python",
   "pygments_lexer": "ipython3",
   "version": "3.6.10-final"
  }
 },
 "nbformat": 4,
 "nbformat_minor": 4
}