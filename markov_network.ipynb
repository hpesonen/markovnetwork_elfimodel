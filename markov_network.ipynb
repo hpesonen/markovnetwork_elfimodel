{
 "cells": [
  {
   "cell_type": "code",
   "execution_count": 13,
   "metadata": {},
   "outputs": [],
   "source": [
    "\"\"\"Example implementation of the 2nd order Moving Average (MA2) model.\"\"\"\n",
    "\n",
    "from functools import partial\n",
    "import itertools\n",
    "\n",
    "import elfi\n",
    "import numpy as np\n",
    "import scipy.stats as ss\n"
   ]
  },
  {
   "cell_type": "code",
   "execution_count": 219,
   "metadata": {},
   "outputs": [
    {
     "name": "stdout",
     "output_type": "stream",
     "text": [
      "lex_ordering\n",
      "[0 1 2 3]\n",
      "[3 2 1 0]\n",
      "[[0. 1. 1. 1.]\n",
      " [0. 0. 1. 0.]\n",
      " [0. 0. 0. 0.]\n",
      " [0. 0. 0. 0.]]\n",
      "[0 1 2 3]\n",
      "[[0. 1. 1. 1.]\n",
      " [1. 0. 1. 0.]\n",
      " [1. 1. 0. 0.]\n",
      " [1. 0. 0. 0.]]\n",
      "[[False False False False]\n",
      " [False False False  True]\n",
      " [False False  True False]\n",
      " [False  True False False]\n",
      " [False  True  True False]\n",
      " [ True False False False]\n",
      " [ True False False  True]\n",
      " [ True False  True False]\n",
      " [ True  True False False]\n",
      " [ True  True  True False]]\n",
      "[[-1.41466920e+01]\n",
      " [-7.07190525e+00]\n",
      " [ 1.34812873e+01]\n",
      " [ 2.08196153e+00]\n",
      " [-1.34812873e+01]\n",
      " [ 1.34232397e+01]\n",
      " [-8.88178420e-16]\n",
      " [-1.34812873e+01]\n",
      " [-2.20918730e+01]\n",
      " [ 2.20916895e+01]]\n"
     ]
    }
   ],
   "source": [
    "ug = np.zeros((4, 4))\n",
    "ug[0,1:4] = 1\n",
    "# ug = np.max(ug, ug.T)\n",
    "ug = ug + ug.T\n",
    "ug[1,2] = 1\n",
    "ug[2,1] = 1\n",
    "\n",
    "# Generate values from the prior as the ground truth\n",
    "para_mat_true, para_val_true = mn_sample_para(ug, 1, 5)\n",
    "print(para_mat_true)\n",
    "print(para_val_true)\n",
    "# Generate observed data"
   ]
  }
 ],
 "metadata": {
  "kernelspec": {
   "display_name": "Python 3.6.9 64-bit ('elfi36': conda)",
   "language": "python",
   "name": "python36964bitelfi36conda8bec451552304612bd355a97e3742bbb"
  },
  "language_info": {
   "codemirror_mode": {
    "name": "ipython",
    "version": 3
   },
   "file_extension": ".py",
   "mimetype": "text/x-python",
   "name": "python",
   "nbconvert_exporter": "python",
   "pygments_lexer": "ipython3",
   "version": "3.6.10"
  }
 },
 "nbformat": 4,
 "nbformat_minor": 4
}